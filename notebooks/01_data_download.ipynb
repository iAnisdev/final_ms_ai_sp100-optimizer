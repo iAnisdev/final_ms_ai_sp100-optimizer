{
 "cells": [
  {
   "cell_type": "code",
   "execution_count": 1,
   "metadata": {},
   "outputs": [],
   "source": [
    "import yfinance as yf\n",
    "import pandas as pd\n"
   ]
  },
  {
   "cell_type": "code",
   "execution_count": 8,
   "metadata": {},
   "outputs": [],
   "source": [
    "# Define a list of 10 selected high-impact stocks from the S&P 100 index.\n",
    "# These are chosen based on market cap and sector diversity to approximate the full index.\n",
    "tickers = ['AAPL', 'MSFT', 'AMZN', 'GOOGL', 'JNJ', 'JPM', 'XOM', 'NVDA', 'PG', 'UNH']\n",
    "\n",
    "# Add the S&P 100 index itself as a benchmark for comparison.\n",
    "# The symbol '^OEX' is used in Yahoo Finance to represent the S&P 100 index.\n",
    "tickers.append('^OEX')"
   ]
  },
  {
   "cell_type": "code",
   "execution_count": 15,
   "metadata": {},
   "outputs": [
    {
     "name": "stderr",
     "output_type": "stream",
     "text": [
      "[*********************100%***********************]  11 of 11 completed\n"
     ]
    }
   ],
   "source": [
    "# Download data for the past 1 year\n",
    "data = yf.download(tickers, start='2024-04-01', end='2025-04-01', group_by='ticker', auto_adjust=True)\n",
    "\n",
    "# Initialize an empty DataFrame to store only adjusted close prices\n",
    "adj_close = pd.DataFrame()\n",
    "\n",
    "# Loop through each ticker and extract the 'Close' price\n",
    "for ticker in tickers:\n",
    "    try:\n",
    "        adj_close[ticker] = data[ticker]['Close']\n",
    "    except KeyError:\n",
    "        print(f\"⚠️ Warning: No data found for {ticker}, skipping...\")\n"
   ]
  },
  {
   "cell_type": "code",
   "execution_count": null,
   "metadata": {},
   "outputs": [
    {
     "name": "stdout",
     "output_type": "stream",
     "text": [
      "Data download complete. File saved in /data.\n"
     ]
    }
   ],
   "source": [
    "\n",
    "# Save the data to a CSV file for future use\n",
    "data.to_csv('../data/sp100_selected_data.csv')\n",
    "\n",
    "print(\"Data download complete. File saved in /data.\")"
   ]
  }
 ],
 "metadata": {
  "kernelspec": {
   "display_name": ".venv",
   "language": "python",
   "name": "python3"
  },
  "language_info": {
   "codemirror_mode": {
    "name": "ipython",
    "version": 3
   },
   "file_extension": ".py",
   "mimetype": "text/x-python",
   "name": "python",
   "nbconvert_exporter": "python",
   "pygments_lexer": "ipython3",
   "version": "3.12.0"
  }
 },
 "nbformat": 4,
 "nbformat_minor": 2
}
