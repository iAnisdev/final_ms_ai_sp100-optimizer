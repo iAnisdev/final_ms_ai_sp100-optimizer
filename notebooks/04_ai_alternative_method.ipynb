{
 "cells": [
  {
   "cell_type": "code",
   "execution_count": 1,
   "metadata": {},
   "outputs": [],
   "source": [
    "import numpy as np\n",
    "import pandas as pd\n",
    "import random\n",
    "import matplotlib.pyplot as plt"
   ]
  },
  {
   "cell_type": "code",
   "execution_count": 2,
   "metadata": {},
   "outputs": [
    {
     "name": "stderr",
     "output_type": "stream",
     "text": [
      "/var/folders/tt/1wm0x7wj6sg2zfqbrjhzrtrc0000gn/T/ipykernel_44192/2983338250.py:2: UserWarning: Could not infer format, so each element will be parsed individually, falling back to `dateutil`. To ensure parsing is consistent and as-expected, please specify a format.\n",
      "  df_5 = pd.read_csv('../data/sp100_selected_data_5.csv', index_col=0, parse_dates=True)\n",
      "/var/folders/tt/1wm0x7wj6sg2zfqbrjhzrtrc0000gn/T/ipykernel_44192/2983338250.py:3: UserWarning: Could not infer format, so each element will be parsed individually, falling back to `dateutil`. To ensure parsing is consistent and as-expected, please specify a format.\n",
      "  df_10 = pd.read_csv('../data/sp100_selected_data_10.csv', index_col=0, parse_dates=True)\n",
      "/var/folders/tt/1wm0x7wj6sg2zfqbrjhzrtrc0000gn/T/ipykernel_44192/2983338250.py:4: UserWarning: Could not infer format, so each element will be parsed individually, falling back to `dateutil`. To ensure parsing is consistent and as-expected, please specify a format.\n",
      "  df_15 = pd.read_csv('../data/sp100_selected_data_15.csv', index_col=0, parse_dates=True)\n",
      "/var/folders/tt/1wm0x7wj6sg2zfqbrjhzrtrc0000gn/T/ipykernel_44192/2983338250.py:5: UserWarning: Could not infer format, so each element will be parsed individually, falling back to `dateutil`. To ensure parsing is consistent and as-expected, please specify a format.\n",
      "  df_20 = pd.read_csv('../data/sp100_selected_data_20.csv', index_col=0, parse_dates=True)\n"
     ]
    }
   ],
   "source": [
    "# Load cleaned returns\n",
    "df_5 = pd.read_csv('../data/sp100_selected_data_5.csv', index_col=0, parse_dates=True)\n",
    "df_10 = pd.read_csv('../data/sp100_selected_data_10.csv', index_col=0, parse_dates=True)\n",
    "df_15 = pd.read_csv('../data/sp100_selected_data_15.csv', index_col=0, parse_dates=True)\n",
    "df_20 = pd.read_csv('../data/sp100_selected_data_20.csv', index_col=0, parse_dates=True)"
   ]
  },
  {
   "cell_type": "code",
   "execution_count": 3,
   "metadata": {},
   "outputs": [
    {
     "name": "stderr",
     "output_type": "stream",
     "text": [
      "/var/folders/tt/1wm0x7wj6sg2zfqbrjhzrtrc0000gn/T/ipykernel_44192/100366113.py:2: FutureWarning: DataFrame.fillna with 'method' is deprecated and will raise in a future version. Use obj.ffill() or obj.bfill() instead.\n",
      "  df = df.apply(pd.to_numeric, errors='coerce').fillna(method='ffill').fillna(method='bfill')\n"
     ]
    }
   ],
   "source": [
    "df = df_10\n",
    "df = df.apply(pd.to_numeric, errors='coerce').fillna(method='ffill').fillna(method='bfill')\n",
    "daily_returns = df.pct_change().dropna()"
   ]
  },
  {
   "cell_type": "code",
   "execution_count": 4,
   "metadata": {},
   "outputs": [
    {
     "name": "stdout",
     "output_type": "stream",
     "text": [
      "📊 Avg returns:\n",
      " AAPL     0.001104\n",
      "MSFT    -0.000372\n",
      "AMZN     0.000351\n",
      "GOOGL    0.000279\n",
      "JNJ      0.000343\n",
      "JPM      0.000910\n",
      "XOM      0.000270\n",
      "NVDA     0.001267\n",
      "PG       0.000310\n",
      "UNH      0.000447\n",
      "dtype: float64\n",
      "\n",
      "🎯 Target return: 0.000491\n"
     ]
    }
   ],
   "source": [
    "# Fix column names\n",
    "def strip_suffix(name):\n",
    "    return name.split('.')[0].strip().upper()\n",
    "daily_returns.columns = [strip_suffix(c) for c in daily_returns.columns]\n",
    "daily_returns = daily_returns.loc[:, ~daily_returns.columns.duplicated()]\n",
    "\n",
    "# Selected stocks\n",
    "ticker_5 = ['AAPL', 'MSFT', 'AMZN', 'GOOGL', 'JNJ']\n",
    "ticker_10 = ['AAPL', 'MSFT', 'AMZN', 'GOOGL', 'JNJ', 'JPM', 'XOM', 'NVDA', 'PG', 'UNH']\n",
    "ticker_15 = ['AAPL', 'MSFT', 'AMZN', 'GOOGL', 'JNJ', 'JPM', 'XOM', 'NVDA', 'PG', 'UNH', 'TSM', 'WMT', 'VZ', 'V', 'WBA']\n",
    "ticker_20 = ['AAPL', 'MSFT', 'AMZN', 'GOOGL', 'JNJ', 'JPM', 'XOM', 'NVDA', 'PG', 'UNH', 'TSM', 'WMT', 'VZ', 'V', 'WBA', 'TSLA', 'NFLX', 'ORCL', 'QCOM', 'IBM']\n",
    "\n",
    "selected_stocks = ticker_10\n",
    "returns = daily_returns[selected_stocks].mean()\n",
    "\n",
    "# Target return: same as AMPL version\n",
    "target_return = returns.mean()\n",
    "\n",
    "print(\"📊 Avg returns:\\n\", returns)\n",
    "print(f\"\\n🎯 Target return: {target_return:.6f}\")\n"
   ]
  },
  {
   "cell_type": "code",
   "execution_count": 5,
   "metadata": {},
   "outputs": [],
   "source": [
    "# --- GA Configuration ---\n",
    "NUM_STOCKS = len(returns)\n",
    "POP_SIZE = 100\n",
    "NUM_GENERATIONS = 200\n",
    "MUTATION_RATE = 0.1"
   ]
  },
  {
   "cell_type": "code",
   "execution_count": 6,
   "metadata": {},
   "outputs": [],
   "source": [
    "# --- Fitness Function ---\n",
    "def tracking_error(weights, returns, target):\n",
    "    portfolio_return = np.dot(weights, returns)\n",
    "    return abs(portfolio_return - target)\n",
    "\n",
    "# --- Generate initial population (random weight vectors summing to 1) ---\n",
    "def init_population(size, num_assets):\n",
    "    pop = []\n",
    "    for _ in range(size):\n",
    "        weights = np.random.dirichlet(np.ones(num_assets), size=1)[0]\n",
    "        pop.append(weights)\n",
    "    return np.array(pop)\n",
    "\n",
    "# --- Tournament selection ---\n",
    "def select_parents(pop, fitnesses):\n",
    "    idx1, idx2 = random.sample(range(len(pop)), 2)\n",
    "    return pop[idx1] if fitnesses[idx1] < fitnesses[idx2] else pop[idx2]\n",
    "\n",
    "# --- Simulated Binary Crossover (SBX-style) ---\n",
    "def crossover(p1, p2):\n",
    "    alpha = np.random.rand()\n",
    "    child = alpha * p1 + (1 - alpha) * p2\n",
    "    return child / child.sum()\n",
    "\n",
    "# --- Mutation ---\n",
    "def mutate(weights, rate=0.1):\n",
    "    if random.random() < rate:\n",
    "        idx = random.randint(0, len(weights)-1)\n",
    "        weights[idx] += np.random.normal(0, 0.05)\n",
    "        weights = np.clip(weights, 0, None)\n",
    "        return weights / weights.sum()\n",
    "    return weights\n"
   ]
  },
  {
   "cell_type": "code",
   "execution_count": 7,
   "metadata": {},
   "outputs": [],
   "source": [
    "# --- GA Loop ---\n",
    "population = init_population(POP_SIZE, NUM_STOCKS)\n",
    "best_solution = None\n",
    "best_error = float('inf')"
   ]
  },
  {
   "cell_type": "code",
   "execution_count": 8,
   "metadata": {},
   "outputs": [
    {
     "name": "stdout",
     "output_type": "stream",
     "text": [
      "Gen   0 | Best tracking error: 0.00000356\n",
      "Gen  25 | Best tracking error: 0.00000000\n",
      "Gen  50 | Best tracking error: 0.00000000\n",
      "Gen  75 | Best tracking error: 0.00000000\n",
      "Gen 100 | Best tracking error: 0.00000000\n",
      "Gen 125 | Best tracking error: 0.00000000\n",
      "Gen 150 | Best tracking error: 0.00000000\n",
      "Gen 175 | Best tracking error: 0.00000000\n",
      "Gen 199 | Best tracking error: 0.00000000\n",
      "\n",
      "📊 Best Portfolio Weights (GA):\n",
      "AAPL     0.0554\n",
      "MSFT     0.0858\n",
      "AMZN     0.1371\n",
      "GOOGL    0.1129\n",
      "JNJ      0.0846\n",
      "JPM      0.0788\n",
      "XOM      0.1160\n",
      "NVDA     0.1434\n",
      "PG       0.1083\n",
      "UNH      0.0778\n",
      "dtype: float64\n",
      "\n",
      "🎯 Final Tracking Error: 0.00000000\n"
     ]
    }
   ],
   "source": [
    "for gen in range(NUM_GENERATIONS):\n",
    "    fitnesses = [tracking_error(w, returns, target_return) for w in population]\n",
    "    new_pop = []\n",
    "\n",
    "    for _ in range(POP_SIZE):\n",
    "        p1 = select_parents(population, fitnesses)\n",
    "        p2 = select_parents(population, fitnesses)\n",
    "        child = crossover(p1, p2)\n",
    "        child = mutate(child, MUTATION_RATE)\n",
    "        new_pop.append(child)\n",
    "\n",
    "    population = np.array(new_pop)\n",
    "\n",
    "    # Track best\n",
    "    min_err_idx = np.argmin(fitnesses)\n",
    "    if fitnesses[min_err_idx] < best_error:\n",
    "        best_error = fitnesses[min_err_idx]\n",
    "        best_solution = population[min_err_idx]\n",
    "\n",
    "    if gen % 25 == 0 or gen == NUM_GENERATIONS - 1:\n",
    "        print(f\"Gen {gen:3} | Best tracking error: {best_error:.8f}\")\n",
    "\n",
    "# --- Results ---\n",
    "weights_df = pd.Series(best_solution, index=selected_stocks)\n",
    "print(\"\\n📊 Best Portfolio Weights (GA):\")\n",
    "print(weights_df.round(4))\n",
    "print(f\"\\n🎯 Final Tracking Error: {best_error:.8f}\")"
   ]
  },
  {
   "cell_type": "code",
   "execution_count": 9,
   "metadata": {},
   "outputs": [
    {
     "name": "stdout",
     "output_type": "stream",
     "text": [
      "✅ GA weights saved to: ../data/ga_portfolio_weights.csv\n"
     ]
    },
    {
     "data": {
      "image/png": "[encoded data removed]",
      "text/plain": [
       "<Figure size 1000x500 with 1 Axes>"
      ]
     },
     "metadata": {},
     "output_type": "display_data"
    }
   ],
   "source": [
    "# Save GA-optimized weights to CSV\n",
    "weights_df.to_csv(\"../data/ga_portfolio_weights.csv\", header=[\"Weight\"])\n",
    "\n",
    "print(\"✅ GA weights saved to: ../data/ga_portfolio_weights.csv\")\n",
    "\n",
    "\n",
    "weights_df.plot(kind='bar', figsize=(10, 5), title='GA-Optimized Portfolio Weights')\n",
    "plt.ylabel(\"Weight\")\n",
    "plt.xlabel(\"Stock\")\n",
    "plt.grid(True, linestyle='--', alpha=0.4)\n",
    "plt.tight_layout()\n",
    "plt.show()\n"
   ]
  }
 ],
 "metadata": {
  "kernelspec": {
   "display_name": ".venv",
   "language": "python",
   "name": "python3"
  },
  "language_info": {
   "codemirror_mode": {
    "name": "ipython",
    "version": 3
   },
   "file_extension": ".py",
   "mimetype": "text/x-python",
   "name": "python",
   "nbconvert_exporter": "python",
   "pygments_lexer": "ipython3",
   "version": "3.12.0"
  }
 },
 "nbformat": 4,
 "nbformat_minor": 2
}
