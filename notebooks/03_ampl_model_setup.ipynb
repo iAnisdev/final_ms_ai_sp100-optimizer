{
 "cells": [
  {
   "cell_type": "code",
   "execution_count": 5,
   "id": "c9eb9188",
   "metadata": {},
   "outputs": [],
   "source": [
    "import pandas as pd"
   ]
  },
  {
   "cell_type": "code",
   "execution_count": 6,
   "id": "a10d117d",
   "metadata": {},
   "outputs": [
    {
     "name": "stderr",
     "output_type": "stream",
     "text": [
      "/var/folders/tt/1wm0x7wj6sg2zfqbrjhzrtrc0000gn/T/ipykernel_7627/3011863545.py:2: UserWarning: Could not infer format, so each element will be parsed individually, falling back to `dateutil`. To ensure parsing is consistent and as-expected, please specify a format.\n",
      "  df = pd.read_csv('../data/sp100_selected_data.csv', index_col=0, parse_dates=True)\n",
      "/var/folders/tt/1wm0x7wj6sg2zfqbrjhzrtrc0000gn/T/ipykernel_7627/3011863545.py:6: FutureWarning: DataFrame.fillna with 'method' is deprecated and will raise in a future version. Use obj.ffill() or obj.bfill() instead.\n",
      "  df = df.fillna(method='ffill').fillna(method='bfill')\n"
     ]
    }
   ],
   "source": [
    "# Load cleaned adjusted close prices\n",
    "df = pd.read_csv('../data/sp100_selected_data.csv', index_col=0, parse_dates=True)\n",
    "\n",
    "# Ensure all values are numeric\n",
    "df = df.apply(pd.to_numeric, errors='coerce')\n",
    "df = df.fillna(method='ffill').fillna(method='bfill')\n"
   ]
  },
  {
   "cell_type": "code",
   "execution_count": 7,
   "id": "fa8f3bcb",
   "metadata": {},
   "outputs": [],
   "source": [
    "# Calculate daily returns\n",
    "daily_returns = df.pct_change().dropna()\n",
    "\n",
    "# Calculate cumulative returns\n",
    "cumulative_returns = (1 + daily_returns).cumprod()\n"
   ]
  },
  {
   "cell_type": "code",
   "execution_count": 8,
   "id": "774569ef",
   "metadata": {},
   "outputs": [
    {
     "data": {
      "text/plain": [
       "['^OEX.1',\n",
       " '^OEX.2',\n",
       " '^OEX.3',\n",
       " 'AAPL.2',\n",
       " 'AAPL',\n",
       " 'AAPL.3',\n",
       " 'AAPL.1',\n",
       " 'JPM.2',\n",
       " 'JPM',\n",
       " 'JPM.1']"
      ]
     },
     "execution_count": 8,
     "metadata": {},
     "output_type": "execute_result"
    }
   ],
   "source": [
    "# Define q = number of stocks to select\n",
    "q = 10\n",
    "\n",
    "# Drop ^OEX (benchmark) before sorting\n",
    "correlations = cumulative_returns.corr()['^OEX'].drop('^OEX')\n",
    "\n",
    "# Select top q stocks most correlated with the S&P 100\n",
    "top_q_stocks = correlations.sort_values(ascending=False).head(q).index.tolist()\n",
    "\n",
    "# Display selected stock tickers\n",
    "top_q_stocks\n"
   ]
  },
  {
   "cell_type": "code",
   "execution_count": 9,
   "id": "2d299b17",
   "metadata": {},
   "outputs": [
    {
     "data": {
      "text/plain": [
       "((252, 11),\n",
       "               ^OEX.1    ^OEX.2    ^OEX.3    AAPL.2      AAPL    AAPL.3  \\\n",
       " Ticker                                                                   \n",
       " Date        0.000000  0.000000  0.000000  0.000000  0.000000  0.000000   \n",
       " 2024-04-01  0.000000  0.000000  0.000000  0.000000  0.000000  0.000000   \n",
       " 2024-04-02 -0.010150 -0.007943 -0.006588 -0.007376 -0.012326 -0.006999   \n",
       " 2024-04-03  0.003801  0.002614  0.000581  0.002081 -0.001715  0.004797   \n",
       " 2024-04-04  0.005235 -0.009843 -0.012935  0.001424  0.008887 -0.004892   \n",
       " \n",
       "               AAPL.1     JPM.2       JPM     JPM.1      ^OEX  \n",
       " Ticker                                                        \n",
       " Date        0.000000  0.000000  0.000000  0.000000  0.000000  \n",
       " 2024-04-01  0.000000  0.000000  0.000000  0.000000  0.000000  \n",
       " 2024-04-02 -0.011153 -0.002468 -0.008000 -0.005773 -0.010852  \n",
       " 2024-04-03  0.007913 -0.001918  0.003276 -0.001101  0.000236  \n",
       " 2024-04-04  0.007265 -0.005105  0.006389  0.006438  0.009844  )"
      ]
     },
     "execution_count": 9,
     "metadata": {},
     "output_type": "execute_result"
    }
   ],
   "source": [
    "# Filter the daily returns for selected stocks and benchmark\n",
    "returns_for_ampl = daily_returns[top_q_stocks + ['^OEX']]\n",
    "\n",
    "# Show the shape and head of the data\n",
    "returns_for_ampl.shape, returns_for_ampl.head()\n"
   ]
  },
  {
   "cell_type": "code",
   "execution_count": 10,
   "id": "75f82ae4",
   "metadata": {},
   "outputs": [
    {
     "data": {
      "text/plain": [
       "^OEX.1    0.000377\n",
       "^OEX.2    0.000317\n",
       "^OEX.3    0.000403\n",
       "AAPL.2    0.001113\n",
       "AAPL      0.001104\n",
       "AAPL.3    0.001199\n",
       "AAPL.1    0.001223\n",
       "JPM.2     0.000900\n",
       "JPM       0.000910\n",
       "JPM.1     0.000990\n",
       "^OEX      0.000334\n",
       "dtype: float64"
      ]
     },
     "execution_count": 10,
     "metadata": {},
     "output_type": "execute_result"
    }
   ],
   "source": [
    "# Average daily return for each stock (can be scaled later)\n",
    "avg_returns = returns_for_ampl.mean()\n",
    "\n",
    "# Print average return of each selected stock and the benchmark\n",
    "avg_returns\n"
   ]
  },
  {
   "cell_type": "code",
   "execution_count": 11,
   "id": "b7160db7",
   "metadata": {},
   "outputs": [
    {
     "name": "stdout",
     "output_type": "stream",
     "text": [
      "set STOCKS := ^OEX.1 ^OEX.2 ^OEX.3 AAPL.2 AAPL AAPL.3 AAPL.1 JPM.2 JPM JPM.1;\n",
      "\n",
      "param r :=\n",
      "    ^OEX.1 0.000377\n",
      "    ^OEX.2 0.000317\n",
      "    ^OEX.3 0.000403\n",
      "    AAPL.2 0.001113\n",
      "    AAPL 0.001104\n",
      "    AAPL.3 0.001199\n",
      "    AAPL.1 0.001223\n",
      "    JPM.2 0.000900\n",
      "    JPM 0.000910\n",
      "    JPM.1 0.000990\n",
      ";\n",
      "\n"
     ]
    }
   ],
   "source": [
    "# Format set of stocks\n",
    "stock_set = \"set STOCKS := \" + ' '.join(top_q_stocks) + \";\\n\"\n",
    "\n",
    "# Format return parameters\n",
    "return_param = \"param r :=\\n\"\n",
    "for stock in top_q_stocks:\n",
    "    return_param += f\"    {stock} {avg_returns[stock]:.6f}\\n\"\n",
    "return_param += \";\\n\"\n",
    "\n",
    "# Combine into .dat content\n",
    "ampl_dat_content = stock_set + \"\\n\" + return_param\n",
    "\n",
    "# Save to file\n",
    "with open('../optimization/index_data.dat', 'w') as f:\n",
    "    f.write(ampl_dat_content)\n",
    "\n",
    "# Print preview\n",
    "print(ampl_dat_content)\n"
   ]
  },
  {
   "cell_type": "code",
   "execution_count": 12,
   "id": "ecc00cb9",
   "metadata": {},
   "outputs": [
    {
     "name": "stdout",
     "output_type": "stream",
     "text": [
      "target_return: 0.000334\n"
     ]
    }
   ],
   "source": [
    "print(f\"target_return: {avg_returns['^OEX']:.6f}\")"
   ]
  }
 ],
 "metadata": {
  "kernelspec": {
   "display_name": ".venv",
   "language": "python",
   "name": "python3"
  },
  "language_info": {
   "codemirror_mode": {
    "name": "ipython",
    "version": 3
   },
   "file_extension": ".py",
   "mimetype": "text/x-python",
   "name": "python",
   "nbconvert_exporter": "python",
   "pygments_lexer": "ipython3",
   "version": "3.12.0"
  }
 },
 "nbformat": 4,
 "nbformat_minor": 5
}
