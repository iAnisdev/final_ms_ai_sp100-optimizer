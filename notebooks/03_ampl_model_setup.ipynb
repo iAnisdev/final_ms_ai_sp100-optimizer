{
 "cells": [
  {
   "cell_type": "code",
   "execution_count": 67,
   "id": "c9eb9188",
   "metadata": {},
   "outputs": [],
   "source": [
    "import pandas as pd\n",
    "from amplpy import AMPL , add_to_path\n",
    "import matplotlib.pyplot as plt"
   ]
  },
  {
   "cell_type": "code",
   "execution_count": 5,
   "id": "a10d117d",
   "metadata": {},
   "outputs": [
    {
     "name": "stderr",
     "output_type": "stream",
     "text": [
      "/var/folders/tt/1wm0x7wj6sg2zfqbrjhzrtrc0000gn/T/ipykernel_60423/3011863545.py:2: UserWarning: Could not infer format, so each element will be parsed individually, falling back to `dateutil`. To ensure parsing is consistent and as-expected, please specify a format.\n",
      "  df = pd.read_csv('../data/sp100_selected_data.csv', index_col=0, parse_dates=True)\n",
      "/var/folders/tt/1wm0x7wj6sg2zfqbrjhzrtrc0000gn/T/ipykernel_60423/3011863545.py:6: FutureWarning: DataFrame.fillna with 'method' is deprecated and will raise in a future version. Use obj.ffill() or obj.bfill() instead.\n",
      "  df = df.fillna(method='ffill').fillna(method='bfill')\n"
     ]
    }
   ],
   "source": [
    "# Load cleaned adjusted close prices\n",
    "df = pd.read_csv('../data/sp100_selected_data.csv', index_col=0, parse_dates=True)\n",
    "\n",
    "# Ensure all values are numeric\n",
    "df = df.apply(pd.to_numeric, errors='coerce')\n",
    "df = df.fillna(method='ffill').fillna(method='bfill')\n"
   ]
  },
  {
   "cell_type": "code",
   "execution_count": 6,
   "id": "1ab8f5fb",
   "metadata": {},
   "outputs": [],
   "source": [
    "def strip_suffix(name):\n",
    "    return name.split('.')[0].strip()\n",
    "\n",
    "df.columns = [strip_suffix(col) for col in df.columns]\n",
    "df = df.loc[:, ~df.columns.duplicated()]"
   ]
  },
  {
   "cell_type": "code",
   "execution_count": 7,
   "id": "fa8f3bcb",
   "metadata": {},
   "outputs": [],
   "source": [
    "# Calculate daily returns\n",
    "daily_returns = df.pct_change().dropna()\n",
    "\n",
    "# Calculate cumulative returns\n",
    "cumulative_returns = (1 + daily_returns).cumprod()\n"
   ]
  },
  {
   "cell_type": "code",
   "execution_count": 8,
   "id": "774569ef",
   "metadata": {},
   "outputs": [
    {
     "data": {
      "text/plain": [
       "['AAPL', 'JPM', 'NVDA', 'AMZN', 'GOOGL', 'PG', 'UNH', 'MSFT', 'JNJ', 'XOM']"
      ]
     },
     "execution_count": 8,
     "metadata": {},
     "output_type": "execute_result"
    }
   ],
   "source": [
    "# Define q = number of stocks to select\n",
    "q = 10\n",
    "# Step 1: Drop ^OEX before correlation to avoid selecting it\n",
    "correlations = cumulative_returns.drop(columns='^OEX').corrwith(cumulative_returns['^OEX'])\n",
    "\n",
    "# Step 2: Get top 10 real stocks\n",
    "top_q_stocks = correlations.sort_values(ascending=False).head(q).index.tolist()\n",
    "\n",
    "# Calculate target return based on these stocks only\n",
    "target_value = daily_returns[top_q_stocks].mean().mean()\n",
    "\n",
    "# Display selected stock tickers\n",
    "top_q_stocks\n"
   ]
  },
  {
   "cell_type": "code",
   "execution_count": 9,
   "id": "2d299b17",
   "metadata": {},
   "outputs": [
    {
     "data": {
      "text/plain": [
       "((252, 11),\n",
       "                 AAPL       JPM      NVDA      AMZN     GOOGL        PG  \\\n",
       " Ticker                                                                   \n",
       " Date        0.000000  0.000000  0.000000  0.000000  0.000000  0.000000   \n",
       " 2024-04-01  0.000000  0.000000  0.000000  0.000000  0.000000  0.000000   \n",
       " 2024-04-02 -0.012326 -0.008000 -0.020499 -0.009514  0.018648 -0.013228   \n",
       " 2024-04-03 -0.001715  0.003276  0.000407  0.004635  0.000652  0.006202   \n",
       " 2024-04-04  0.008887  0.006389  0.021721  0.022790 -0.000651 -0.023346   \n",
       " \n",
       "                  UNH      MSFT       JNJ       XOM      ^OEX  \n",
       " Ticker                                                        \n",
       " Date        0.000000  0.000000  0.000000  0.000000  0.000000  \n",
       " 2024-04-01  0.000000  0.000000  0.000000  0.000000  0.000000  \n",
       " 2024-04-02 -0.070520 -0.009058 -0.007291  0.012971 -0.010852  \n",
       " 2024-04-03  0.005222 -0.000904  0.007792  0.013229  0.000236  \n",
       " 2024-04-04 -0.002554  0.012532 -0.015717 -0.003599  0.009844  )"
      ]
     },
     "execution_count": 9,
     "metadata": {},
     "output_type": "execute_result"
    }
   ],
   "source": [
    "# Filter the daily returns for selected stocks and benchmark\n",
    "returns_for_ampl = daily_returns[top_q_stocks + ['^OEX']]\n",
    "\n",
    "# Show the shape and head of the data\n",
    "returns_for_ampl.shape, returns_for_ampl.head()\n"
   ]
  },
  {
   "cell_type": "code",
   "execution_count": 10,
   "id": "75f82ae4",
   "metadata": {},
   "outputs": [
    {
     "name": "stdout",
     "output_type": "stream",
     "text": [
      "Recommended target_return for AMPL: 0.000491\n"
     ]
    }
   ],
   "source": [
    "# Average daily return for each stock (can be scaled later)\n",
    "avg_returns = returns_for_ampl.mean()\n",
    "\n",
    "# Print average return of each selected stock and the benchmark\n",
    "avg_returns\n",
    "\n",
    "# Calculate an achievable target return: average of selected stocks (excluding OEX)\n",
    "target = avg_returns[top_q_stocks].mean()\n",
    "print(f\"Recommended target_return for AMPL: {target:.6f}\")\n",
    "\n"
   ]
  },
  {
   "cell_type": "code",
   "execution_count": 11,
   "id": "ecc00cb9",
   "metadata": {},
   "outputs": [
    {
     "name": "stdout",
     "output_type": "stream",
     "text": [
      "target_return: 0.000334\n"
     ]
    }
   ],
   "source": [
    "print(f\"target_return: {avg_returns['^OEX']:.6f}\")"
   ]
  },
  {
   "cell_type": "code",
   "execution_count": 12,
   "id": "5bed22ca",
   "metadata": {},
   "outputs": [
    {
     "name": "stdout",
     "output_type": "stream",
     "text": [
      "✅ FINAL clean .dat file created with:\n",
      "\n",
      "set STOCKS := AAPL JPM NVDA AMZN GOOGL PG UNH MSFT JNJ XOM;\n",
      "\n",
      "param r :=\n",
      "    AAPL 0.001104\n",
      "    JPM 0.000910\n",
      "    NVDA 0.001267\n",
      "    AMZN 0.000351\n",
      "    GOOGL 0.000279\n",
      "    PG 0.000310\n",
      "    UNH 0.000447\n",
      "    MSFT -0.000372\n",
      "    JNJ 0.000343\n",
      "    XOM 0.000270\n",
      ";\n",
      "\n",
      "param target_return := 0.000491;\n",
      "\n"
     ]
    }
   ],
   "source": [
    "# Clean and deduplicate stock selection\n",
    "def clean_name(name):\n",
    "    return name.replace(\"^\", \"\").replace(\".\", \"\").replace(\"-\", \"\").replace(\" \", \"\").upper()\n",
    "\n",
    "# Use only real stocks, exclude ^OEX from correlation matrix\n",
    "correlations = cumulative_returns.drop(columns='^OEX').corrwith(cumulative_returns['^OEX'])\n",
    "\n",
    "top_q_stocks = correlations.sort_values(ascending=False).head(10).index.tolist()\n",
    "\n",
    "# Remove duplicates and clean names\n",
    "top_q_stocks = list(dict.fromkeys(top_q_stocks))\n",
    "name_map = {stock: clean_name(stock) for stock in top_q_stocks}\n",
    "top_q_stocks_clean = [name_map[stock] for stock in top_q_stocks]\n",
    "\n",
    "# Calculate average returns for selected stocks\n",
    "avg_returns_selected = daily_returns[top_q_stocks].mean()\n",
    "\n",
    "# Clean return index\n",
    "avg_returns_clean = avg_returns_selected.rename(index=name_map)\n",
    "\n",
    "# Build .dat file content\n",
    "stock_set = \"set STOCKS := \" + ' '.join(top_q_stocks_clean) + \";\\n\"\n",
    "\n",
    "return_param = \"param r :=\\n\"\n",
    "for stock in top_q_stocks:\n",
    "    clean = name_map[stock]\n",
    "    return_param += f\"    {clean} {avg_returns_selected[stock]:.6f}\\n\"\n",
    "return_param += \";\\n\"\n",
    "\n",
    "# Calculate target return as average of selected stocks\n",
    "target_value = avg_returns_selected.mean()\n",
    "target_line = f\"param target_return := {target_value:.6f};\\n\"\n",
    "\n",
    "# Save to file\n",
    "ampl_dat = stock_set + \"\\n\" + return_param + \"\\n\" + target_line\n",
    "with open('../optimization/index_data.dat', 'w') as f:\n",
    "    f.write(ampl_dat)\n",
    "\n",
    "print(\"✅ FINAL clean .dat file created with:\\n\")\n",
    "print(ampl_dat)"
   ]
  },
  {
   "cell_type": "code",
   "execution_count": 13,
   "id": "3f6baa1c",
   "metadata": {},
   "outputs": [
    {
     "name": "stdout",
     "output_type": "stream",
     "text": [
      "MINOS 5.51: optimal solution found.\n",
      "1 iterations, objective 3.75769018e-15\n",
      "Nonlin evals: obj = 8, grad = 7.\n",
      "✅ Tracking error: 3.757690180294384e-15\n",
      "\n",
      "📊 Portfolio Weights:\n",
      "AAPL   = 0.5847\n",
      "AMZN   = 0.0000\n",
      "GOOGL  = 0.0000\n",
      "JNJ    = 0.0000\n",
      "JPM    = 0.0000\n",
      "MSFT   = 0.4153\n",
      "NVDA   = 0.0000\n",
      "PG     = 0.0000\n",
      "UNH    = 0.0000\n",
      "XOM    = 0.0000\n"
     ]
    }
   ],
   "source": [
    "# Step 1: Add AMPL to system path (update path if needed)\n",
    "add_to_path(\"/Applications/AMPL\")\n",
    "\n",
    "# Step 2: Create AMPL instance\n",
    "ampl = AMPL()\n",
    "ampl.reset()\n",
    "\n",
    "# Step 3: Load model and data\n",
    "ampl.read(\"../optimization/index_model.mod\")\n",
    "ampl.read_data(\"../optimization/index_data.dat\") \n",
    "\n",
    "# Step 4: Set solver and solve\n",
    "ampl.set_option(\"solver\", \"minos\")\n",
    "ampl.solve()\n",
    "\n",
    "# Step 5: Output results\n",
    "print(\"✅ Tracking error:\", ampl.get_value(\"tracking_error\"))\n",
    "\n",
    "w = ampl.get_variable(\"w\")\n",
    "print(\"\\n📊 Portfolio Weights:\")\n",
    "for key, var in w:\n",
    "    print(f\"{key:<6} = {var.value():.4f}\")\n",
    "\n"
   ]
  },
  {
   "cell_type": "code",
   "execution_count": 16,
   "id": "b8afd421",
   "metadata": {},
   "outputs": [
    {
     "name": "stdout",
     "output_type": "stream",
     "text": [
      "✅ AMPL weights saved to: ../data/ampl_portfolio_weights.csv\n"
     ]
    },
    {
     "data": {
      "image/png": "[encoded data removed]",
      "text/plain": [
       "<Figure size 1000x500 with 1 Axes>"
      ]
     },
     "metadata": {},
     "output_type": "display_data"
    },
    {
     "name": "stdout",
     "output_type": "stream",
     "text": [
      "✅ AMPL weight chart saved to: ../data/ampl_portfolio_weights.png\n"
     ]
    }
   ],
   "source": [
    "# Get weights from AMPL solution\n",
    "ampl_weights = {key: var.value() for key, var in w}\n",
    "ampl_weights = pd.Series(ampl_weights)\n",
    "ampl_weights = ampl_weights[ampl_weights > 0]  # Show only non-zero weights\n",
    "\n",
    "\n",
    "# Save to CSV for evaluation\n",
    "ampl_weights.to_csv(\"../data/ampl_portfolio_weights.csv\", header=[\"Weight\"])\n",
    "\n",
    "print(\"✅ AMPL weights saved to: ../data/ampl_portfolio_weights.csv\")\n",
    "\n",
    "# Plot and save\n",
    "plt.figure(figsize=(10, 5))\n",
    "ampl_weights.plot(kind='bar', color='orange', title='AMPL-Optimized Portfolio Weights')\n",
    "plt.ylabel(\"Weight\")\n",
    "plt.xlabel(\"Stock\")\n",
    "plt.grid(True, linestyle='--', alpha=0.4)\n",
    "plt.tight_layout()\n",
    "plt.show()\n",
    "\n",
    "print(\"✅ AMPL weight chart saved to: ../data/ampl_portfolio_weights.png\")"
   ]
  }
 ],
 "metadata": {
  "kernelspec": {
   "display_name": ".venv",
   "language": "python",
   "name": "python3"
  },
  "language_info": {
   "codemirror_mode": {
    "name": "ipython",
    "version": 3
   },
   "file_extension": ".py",
   "mimetype": "text/x-python",
   "name": "python",
   "nbconvert_exporter": "python",
   "pygments_lexer": "ipython3",
   "version": "3.12.0"
  }
 },
 "nbformat": 4,
 "nbformat_minor": 5
}
